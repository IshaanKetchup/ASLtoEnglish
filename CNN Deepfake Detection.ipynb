{
  "nbformat": 4,
  "nbformat_minor": 0,
  "metadata": {
    "colab": {
      "provenance": [],
      "gpuType": "T4",
      "authorship_tag": "ABX9TyOawK3MNI6lTs2aWsALyWEa",
      "include_colab_link": true
    },
    "kernelspec": {
      "name": "python3",
      "display_name": "Python 3"
    },
    "language_info": {
      "name": "python"
    },
    "accelerator": "GPU"
  },
  "cells": [
    {
      "cell_type": "markdown",
      "metadata": {
        "id": "view-in-github",
        "colab_type": "text"
      },
      "source": [
        "<a href=\"https://colab.research.google.com/github/IshaanKetchup/ASLtoEnglish/blob/main/CNN%20Deepfake%20Detection.ipynb\" target=\"_parent\"><img src=\"https://colab.research.google.com/assets/colab-badge.svg\" alt=\"Open In Colab\"/></a>"
      ]
    },
    {
      "cell_type": "markdown",
      "source": [
        "#CNN BASED DEEPFAKE DETECTION"
      ],
      "metadata": {
        "id": "sk4gqtiGui9v"
      }
    },
    {
      "cell_type": "code",
      "execution_count": 5,
      "metadata": {
        "id": "yfYSG0IYuva9",
        "colab": {
          "base_uri": "https://localhost:8080/"
        },
        "outputId": "60f387a2-c6c1-449d-bc5d-39ef6ad225ca"
      },
      "outputs": [
        {
          "output_type": "stream",
          "name": "stdout",
          "text": [
            "Path to dataset files: /kaggle/input/deepfake-and-real-images\n"
          ]
        }
      ],
      "source": [
        "import kagglehub\n",
        "\n",
        "# Download latest version\n",
        "path = kagglehub.dataset_download(\"manjilkarki/deepfake-and-real-images\")\n",
        "\n",
        "print(\"Path to dataset files:\", path)"
      ]
    },
    {
      "cell_type": "markdown",
      "source": [
        "##Loading Data"
      ],
      "metadata": {
        "id": "xqvEq0S4ppg5"
      }
    },
    {
      "cell_type": "code",
      "source": [
        "import tensorflow as tf\n",
        "import os\n",
        "\n",
        "# Set dataset path\n",
        "dataset_path = path  # replace with actual path if needed\n",
        "img_size = (128, 128)\n",
        "batch_size = 32\n",
        "\n",
        "# Create datasets\n",
        "train_ds = tf.keras.preprocessing.image_dataset_from_directory(\n",
        "    os.path.join(dataset_path, \"Dataset/Train\"),\n",
        "    image_size=img_size,\n",
        "    batch_size=batch_size,\n",
        "    label_mode=\"binary\"\n",
        ")\n",
        "\n",
        "val_ds = tf.keras.preprocessing.image_dataset_from_directory(\n",
        "    os.path.join(dataset_path, \"Dataset/Validation\"),\n",
        "    image_size=img_size,\n",
        "    batch_size=batch_size,\n",
        "    label_mode=\"binary\"\n",
        ")\n",
        "\n",
        "test_ds = tf.keras.preprocessing.image_dataset_from_directory(\n",
        "    os.path.join(dataset_path, \"Dataset/Test\"),\n",
        "    image_size=img_size,\n",
        "    batch_size=batch_size,\n",
        "    label_mode=\"binary\"\n",
        ")\n",
        "\n",
        "# Optional performance boost\n",
        "AUTOTUNE = tf.data.AUTOTUNE\n",
        "train_ds = train_ds.prefetch(buffer_size=AUTOTUNE)\n",
        "val_ds = val_ds.prefetch(buffer_size=AUTOTUNE)\n",
        "test_ds = test_ds.prefetch(buffer_size=AUTOTUNE)\n"
      ],
      "metadata": {
        "colab": {
          "base_uri": "https://localhost:8080/"
        },
        "id": "dWCmR_vpnDIT",
        "outputId": "850689b4-5922-46f6-dba8-41eacb2f8718"
      },
      "execution_count": 8,
      "outputs": [
        {
          "output_type": "stream",
          "name": "stdout",
          "text": [
            "Found 140002 files belonging to 2 classes.\n",
            "Found 39428 files belonging to 2 classes.\n",
            "Found 10905 files belonging to 2 classes.\n"
          ]
        }
      ]
    },
    {
      "cell_type": "markdown",
      "source": [
        "##CNN Architecture"
      ],
      "metadata": {
        "id": "K3LQGtKCpq-n"
      }
    },
    {
      "cell_type": "code",
      "source": [
        "model = tf.keras.Sequential([\n",
        "    tf.keras.layers.Rescaling(1./255, input_shape=img_size + (3,)), #image normalization (0-255 -> 0-1) and shape definition (128x128, 3 channels RGB)\n",
        "    tf.keras.layers.Conv2D(32, 3, activation='relu'), # Input:(128, 128, 3), Output:(126, 126, 32) 126 = 128 - 3 + 1\n",
        "    tf.keras.layers.MaxPooling2D(), # Input:(126, 126, 32), Output:(63, 63, 32)\n",
        "\n",
        "    tf.keras.layers.Conv2D(64, 3, activation='relu'), # Input:(63, 63, 32), Output:(61, 61, 64)\n",
        "    tf.keras.layers.MaxPooling2D(), # Input:(61, 61, 64), Output:(30, 30, 64)\n",
        "\n",
        "    tf.keras.layers.Conv2D(128, 3, activation='relu'), # Input:(30, 30, 64), Output:(28, 28, 128)\n",
        "    tf.keras.layers.MaxPooling2D(), # Input:(28, 28, 128), Output:(14, 14, 128)\n",
        "\n",
        "    tf.keras.layers.Flatten(), # 3D Tensor to 2D Vector-- Input:(14, 14, 128), Output:14×14×128 = 25088\n",
        "    tf.keras.layers.Dense(128, activation='relu'), # Fully connected layer -- Input: 25088, Output: 128\n",
        "    tf.keras.layers.Dropout(0.5), # Randomly set 50% of inputs to 0 during training to prevent overfitting\n",
        "    tf.keras.layers.Dense(1, activation='sigmoid')  # Binary Classifier\n",
        "])\n"
      ],
      "metadata": {
        "colab": {
          "base_uri": "https://localhost:8080/"
        },
        "id": "XDZauMJFnmTW",
        "outputId": "85984df7-abd7-421b-ac3d-ffe64bc0c00e"
      },
      "execution_count": 9,
      "outputs": [
        {
          "output_type": "stream",
          "name": "stderr",
          "text": [
            "/usr/local/lib/python3.11/dist-packages/keras/src/layers/preprocessing/tf_data_layer.py:19: UserWarning: Do not pass an `input_shape`/`input_dim` argument to a layer. When using Sequential models, prefer using an `Input(shape)` object as the first layer in the model instead.\n",
            "  super().__init__(**kwargs)\n"
          ]
        }
      ]
    },
    {
      "cell_type": "markdown",
      "source": [
        "##Compiling the Model"
      ],
      "metadata": {
        "id": "zu-Lh2nMpwb4"
      }
    },
    {
      "cell_type": "code",
      "source": [
        "model.compile(\n",
        "    optimizer='adam',\n",
        "    loss='binary_crossentropy',\n",
        "    metrics=['accuracy']\n",
        ")\n"
      ],
      "metadata": {
        "id": "RqW7coEJpsrC"
      },
      "execution_count": 10,
      "outputs": []
    },
    {
      "cell_type": "markdown",
      "source": [
        "##Training the Model"
      ],
      "metadata": {
        "id": "F1hpbaMBpzNg"
      }
    },
    {
      "cell_type": "code",
      "source": [
        "history = model.fit(\n",
        "    train_ds,\n",
        "    validation_data=val_ds,\n",
        "    epochs=5\n",
        ")\n"
      ],
      "metadata": {
        "colab": {
          "base_uri": "https://localhost:8080/"
        },
        "id": "GCxhyTzbpx4D",
        "outputId": "2c51fc0a-92d1-43ec-8d4b-060ff5aae9c9"
      },
      "execution_count": 11,
      "outputs": [
        {
          "output_type": "stream",
          "name": "stdout",
          "text": [
            "Epoch 1/5\n",
            "\u001b[1m4376/4376\u001b[0m \u001b[32m━━━━━━━━━━━━━━━━━━━━\u001b[0m\u001b[37m\u001b[0m \u001b[1m519s\u001b[0m 117ms/step - accuracy: 0.8034 - loss: 0.4071 - val_accuracy: 0.8640 - val_loss: 0.2971\n",
            "Epoch 2/5\n",
            "\u001b[1m4376/4376\u001b[0m \u001b[32m━━━━━━━━━━━━━━━━━━━━\u001b[0m\u001b[37m\u001b[0m \u001b[1m207s\u001b[0m 37ms/step - accuracy: 0.9306 - loss: 0.1727 - val_accuracy: 0.9117 - val_loss: 0.2063\n",
            "Epoch 3/5\n",
            "\u001b[1m4376/4376\u001b[0m \u001b[32m━━━━━━━━━━━━━━━━━━━━\u001b[0m\u001b[37m\u001b[0m \u001b[1m150s\u001b[0m 34ms/step - accuracy: 0.9457 - loss: 0.1336 - val_accuracy: 0.9230 - val_loss: 0.1809\n",
            "Epoch 4/5\n",
            "\u001b[1m4376/4376\u001b[0m \u001b[32m━━━━━━━━━━━━━━━━━━━━\u001b[0m\u001b[37m\u001b[0m \u001b[1m160s\u001b[0m 37ms/step - accuracy: 0.9548 - loss: 0.1140 - val_accuracy: 0.9201 - val_loss: 0.2059\n",
            "Epoch 5/5\n",
            "\u001b[1m4376/4376\u001b[0m \u001b[32m━━━━━━━━━━━━━━━━━━━━\u001b[0m\u001b[37m\u001b[0m \u001b[1m158s\u001b[0m 36ms/step - accuracy: 0.9606 - loss: 0.0986 - val_accuracy: 0.9091 - val_loss: 0.2409\n"
          ]
        }
      ]
    },
    {
      "cell_type": "markdown",
      "source": [
        "##Evaluation"
      ],
      "metadata": {
        "id": "-8JDypqVp2yS"
      }
    },
    {
      "cell_type": "code",
      "source": [
        "test_loss, test_acc = model.evaluate(test_ds)\n",
        "print(\"Test accuracy:\", test_acc)\n"
      ],
      "metadata": {
        "colab": {
          "base_uri": "https://localhost:8080/"
        },
        "id": "tWZOC0TGp1R9",
        "outputId": "ebfa1c98-098f-4c66-bb23-52ab2a6aafad"
      },
      "execution_count": 12,
      "outputs": [
        {
          "output_type": "stream",
          "name": "stdout",
          "text": [
            "\u001b[1m341/341\u001b[0m \u001b[32m━━━━━━━━━━━━━━━━━━━━\u001b[0m\u001b[37m\u001b[0m \u001b[1m28s\u001b[0m 83ms/step - accuracy: 0.8781 - loss: 0.3196\n",
            "Test accuracy: 0.8759284615516663\n"
          ]
        }
      ]
    },
    {
      "cell_type": "markdown",
      "source": [
        "##Saving the Model"
      ],
      "metadata": {
        "id": "QmcaiRJ5uvjw"
      }
    },
    {
      "cell_type": "code",
      "source": [
        "model.save(\"deepfake_cnn_model.keras\")  # Creates a folder with all files\n"
      ],
      "metadata": {
        "id": "n6YtxY2FuvOv"
      },
      "execution_count": 14,
      "outputs": []
    },
    {
      "cell_type": "code",
      "source": [],
      "metadata": {
        "id": "O7p-59lDuyf4"
      },
      "execution_count": null,
      "outputs": []
    }
  ]
}