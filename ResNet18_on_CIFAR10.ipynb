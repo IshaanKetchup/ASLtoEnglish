{
  "nbformat": 4,
  "nbformat_minor": 0,
  "metadata": {
    "colab": {
      "provenance": [],
      "gpuType": "T4",
      "authorship_tag": "ABX9TyPCvg36jEG4l9JYOSVSbeWl",
      "include_colab_link": true
    },
    "kernelspec": {
      "name": "python3",
      "display_name": "Python 3"
    },
    "language_info": {
      "name": "python"
    },
    "accelerator": "GPU"
  },
  "cells": [
    {
      "cell_type": "markdown",
      "metadata": {
        "id": "view-in-github",
        "colab_type": "text"
      },
      "source": [
        "<a href=\"https://colab.research.google.com/github/IshaanKetchup/ASLtoEnglish/blob/main/ResNet18_on_CIFAR10.ipynb\" target=\"_parent\"><img src=\"https://colab.research.google.com/assets/colab-badge.svg\" alt=\"Open In Colab\"/></a>"
      ]
    },
    {
      "cell_type": "code",
      "source": [
        "!pip install pytorch"
      ],
      "metadata": {
        "id": "YfCcC09XtTCH"
      },
      "execution_count": null,
      "outputs": []
    },
    {
      "cell_type": "markdown",
      "source": [],
      "metadata": {
        "id": "Iu3ZVwV6HXes"
      }
    },
    {
      "cell_type": "code",
      "source": [
        "import torch\n",
        "import torch.nn as nn\n",
        "import torch.nn.functional as F\n",
        "\n",
        "class ResidualBlock(nn.Module):\n",
        "    def __init__(self, in_channels, out_channels, stride=1):\n",
        "        super(ResidualBlock, self).__init__()\n",
        "        self.conv1 = nn.Conv2d(in_channels, out_channels, kernel_size=3,stride=stride, padding=1, bias=False)\n",
        "        self.bn1 = nn.BatchNorm2d(out_channels)\n",
        "        #self.rl1 = nn.ReLU(inplace=True)\n",
        "        self.conv2 = nn.Conv2d(out_channels, out_channels, kernel_size=3,stride=1, padding=1, bias=False)\n",
        "        self.bn2 = nn.BatchNorm2d(out_channels)\n",
        "\n",
        "        if stride!=1 or in_channels != out_channels:\n",
        "            self.shortcut = nn.Sequential(\n",
        "                nn.Conv2d(in_channels, out_channels, kernel_size=1, stride=stride, bias=False),\n",
        "                nn.BatchNorm2d(out_channels)\n",
        "            )\n",
        "        else:\n",
        "            self.shortcut = nn.Sequential()\n",
        "\n",
        "    def forward(self, x):\n",
        "        out = self.conv1(x)\n",
        "        out = self.bn1(out)\n",
        "        out = torch.relu(out)\n",
        "        out = self.conv2(out)\n",
        "        out = self.bn2(out)\n",
        "        out += self.shortcut(x)\n",
        "        out = torch.relu(out)\n",
        "        return out\n",
        "\n",
        "\n",
        "class ResNet18(nn.Module):\n",
        "    def __init__(self, num_classes=1000):\n",
        "        super(ResNet18, self).__init__()\n",
        "        self.in_channels = 64\n",
        "        self.conv1 = nn.Conv2d(3, 64, kernel_size=7, stride=2, padding=3)\n",
        "        self.bn1 = nn.BatchNorm2d(64)\n",
        "        self.relu = nn.ReLU()\n",
        "\n",
        "        self.layer1 = nn.Sequential(\n",
        "            ResidualBlock(64, 64, stride=2)\n",
        "        )\n",
        "        self.layer2 = nn.Sequential(\n",
        "            ResidualBlock(64, 128, stride=2)\n",
        "        )\n",
        "        self.layer3 = nn.Sequential(\n",
        "            ResidualBlock(128, 256, stride=2)\n",
        "        )\n",
        "        self.layer4 = nn.Sequential(\n",
        "            ResidualBlock(256, 512, stride=2)\n",
        "        )\n",
        "\n",
        "        self.avgpool = nn.AdaptiveAvgPool2d((1, 1))\n",
        "        self.fc = nn.Linear(512, num_classes)\n",
        "\n",
        "    def forward(self, x):\n",
        "        out = self.conv1(x)\n",
        "        out = self.bn1(out)\n",
        "        out = self.relu(out)\n",
        "\n",
        "        out = self.layer1(out)\n",
        "        out = self.layer2(out)\n",
        "        out = self.layer3(out)\n",
        "        out = self.layer4(out)\n",
        "\n",
        "        out = self.avgpool(out)\n",
        "        out = torch.flatten(out, 1)\n",
        "        out = self.fc(out)\n",
        "        return out\n",
        "model = ResNet18(num_classes = 10)\n"
      ],
      "metadata": {
        "id": "6Vcu5ZPgtQJ8",
        "collapsed": true
      },
      "execution_count": null,
      "outputs": []
    },
    {
      "cell_type": "code",
      "source": [
        "import torch\n",
        "import torch.nn as nn\n",
        "import torch.optim as optim\n",
        "import torchvision.transforms as transforms\n",
        "import torchvision.datasets as datasets\n",
        "from torch.utils.data import DataLoader\n",
        "\n",
        "# Define the data transformations\n",
        "transform = transforms.Compose([\n",
        "    transforms.RandomResizedCrop(32),  # CIFAR-10 images are 32x32\n",
        "    transforms.RandomHorizontalFlip(),\n",
        "    transforms.ToTensor(),\n",
        "    transforms.Normalize((0.4914, 0.4822, 0.4465), (0.2023, 0.1994, 0.2010)),\n",
        "])\n",
        "\n",
        "# Load CIFAR-10 dataset\n",
        "train_dataset = datasets.CIFAR10(root='./data', train=True, download=True, transform=transform)\n",
        "train_loader = DataLoader(train_dataset, batch_size=128, shuffle=True, num_workers=2)\n",
        "\n",
        "test_dataset = datasets.CIFAR10(root='./data', train=False, download=True, transform=transform)\n",
        "test_loader = DataLoader(test_dataset, batch_size=128, shuffle=False, num_workers=2)\n"
      ],
      "metadata": {
        "colab": {
          "base_uri": "https://localhost:8080/"
        },
        "id": "S9ktKqKnEWxx",
        "outputId": "7ac944a9-5c0e-49e9-ba7d-746b18732bb7"
      },
      "execution_count": null,
      "outputs": [
        {
          "output_type": "stream",
          "name": "stdout",
          "text": [
            "Downloading https://www.cs.toronto.edu/~kriz/cifar-10-python.tar.gz to ./data/cifar-10-python.tar.gz\n"
          ]
        },
        {
          "output_type": "stream",
          "name": "stderr",
          "text": [
            "100%|██████████| 170498071/170498071 [00:03<00:00, 45147657.23it/s]\n"
          ]
        },
        {
          "output_type": "stream",
          "name": "stdout",
          "text": [
            "Extracting ./data/cifar-10-python.tar.gz to ./data\n",
            "Files already downloaded and verified\n"
          ]
        }
      ]
    },
    {
      "cell_type": "code",
      "source": [
        "device = torch.device(\"cuda\" if torch.cuda.is_available() else \"cpu\")\n",
        "\n",
        "# Define the training function\n",
        "def train(model, train_loader, criterion, optimizer, epoch):\n",
        "    model.train()\n",
        "    running_loss = 0.0\n",
        "    for batch_idx, (inputs, targets) in enumerate(train_loader):\n",
        "        inputs, targets = inputs.to(device), targets.to(device)\n",
        "        optimizer.zero_grad()\n",
        "        outputs = model(inputs)\n",
        "        loss = criterion(outputs, targets)\n",
        "        loss.backward()\n",
        "        optimizer.step()\n",
        "        running_loss += loss.item()\n",
        "        if batch_idx % 100 == 99:    # Print every 100 batches\n",
        "            print(f'Epoch: {epoch}, Batch: {batch_idx+1}, Loss: {running_loss / 100:.3f}')\n",
        "            running_loss = 0.0\n",
        "\n",
        "# Define the test function\n",
        "def test(model, test_loader, criterion):\n",
        "    model.eval()\n",
        "    test_loss = 0\n",
        "    correct = 0\n",
        "    with torch.no_grad():\n",
        "        for inputs, targets in test_loader:\n",
        "            inputs, targets = inputs.to(device), targets.to(device)\n",
        "            outputs = model(inputs)\n",
        "            loss = criterion(outputs, targets)\n",
        "            test_loss += loss.item()\n",
        "            _, predicted = outputs.max(1)\n",
        "            correct += predicted.eq(targets).sum().item()\n",
        "    print(f'Test Loss: {test_loss / len(test_loader.dataset):.3f}, Accuracy: {100. * correct / len(test_loader.dataset):.3f}%')\n"
      ],
      "metadata": {
        "id": "BAuev4DLEXMh"
      },
      "execution_count": null,
      "outputs": []
    },
    {
      "cell_type": "code",
      "source": [
        "# Initialize the model, criterion, and optimizer\n",
        "model = ResNet18(num_classes=10).to(device)\n",
        "criterion = nn.CrossEntropyLoss()\n",
        "optimizer = optim.SGD(model.parameters(), lr=0.1, momentum=0.9, weight_decay=5e-4)\n",
        "\n",
        "# Train the model\n",
        "num_epochs = 20\n",
        "for epoch in range(num_epochs):\n",
        "    train(model, train_loader, criterion, optimizer, epoch)\n",
        "    test(model, test_loader, criterion)\n",
        "\n",
        "# Save the model\n",
        "torch.save(model.state_dict(), 'resnet18_cifar10.pth')\n"
      ],
      "metadata": {
        "colab": {
          "base_uri": "https://localhost:8080/"
        },
        "id": "HmtKzalcEdMB",
        "outputId": "76f6652f-1844-4b72-bbf9-5b4f79a694a3"
      },
      "execution_count": null,
      "outputs": [
        {
          "output_type": "stream",
          "name": "stdout",
          "text": [
            "Epoch: 0, Batch: 100, Loss: 2.224\n",
            "Epoch: 0, Batch: 200, Loss: 1.872\n",
            "Epoch: 0, Batch: 300, Loss: 1.808\n",
            "Test Loss: 0.014, Accuracy: 36.580%\n",
            "Epoch: 1, Batch: 100, Loss: 1.713\n",
            "Epoch: 1, Batch: 200, Loss: 1.675\n",
            "Epoch: 1, Batch: 300, Loss: 1.654\n",
            "Test Loss: 0.013, Accuracy: 41.070%\n",
            "Epoch: 2, Batch: 100, Loss: 1.587\n",
            "Epoch: 2, Batch: 200, Loss: 1.581\n",
            "Epoch: 2, Batch: 300, Loss: 1.547\n",
            "Test Loss: 0.012, Accuracy: 43.300%\n",
            "Epoch: 3, Batch: 100, Loss: 1.492\n",
            "Epoch: 3, Batch: 200, Loss: 1.475\n",
            "Epoch: 3, Batch: 300, Loss: 1.465\n",
            "Test Loss: 0.012, Accuracy: 47.130%\n",
            "Epoch: 4, Batch: 100, Loss: 1.429\n",
            "Epoch: 4, Batch: 200, Loss: 1.422\n",
            "Epoch: 4, Batch: 300, Loss: 1.388\n",
            "Test Loss: 0.012, Accuracy: 46.950%\n",
            "Epoch: 5, Batch: 100, Loss: 1.380\n",
            "Epoch: 5, Batch: 200, Loss: 1.368\n",
            "Epoch: 5, Batch: 300, Loss: 1.365\n",
            "Test Loss: 0.011, Accuracy: 51.220%\n",
            "Epoch: 6, Batch: 100, Loss: 1.329\n",
            "Epoch: 6, Batch: 200, Loss: 1.330\n",
            "Epoch: 6, Batch: 300, Loss: 1.299\n",
            "Test Loss: 0.011, Accuracy: 52.610%\n",
            "Epoch: 7, Batch: 100, Loss: 1.311\n",
            "Epoch: 7, Batch: 200, Loss: 1.278\n",
            "Epoch: 7, Batch: 300, Loss: 1.282\n",
            "Test Loss: 0.011, Accuracy: 52.490%\n",
            "Epoch: 8, Batch: 100, Loss: 1.257\n",
            "Epoch: 8, Batch: 200, Loss: 1.243\n",
            "Epoch: 8, Batch: 300, Loss: 1.246\n",
            "Test Loss: 0.010, Accuracy: 54.450%\n",
            "Epoch: 9, Batch: 100, Loss: 1.245\n",
            "Epoch: 9, Batch: 200, Loss: 1.233\n",
            "Epoch: 9, Batch: 300, Loss: 1.209\n",
            "Test Loss: 0.011, Accuracy: 53.350%\n",
            "Epoch: 10, Batch: 100, Loss: 1.223\n",
            "Epoch: 10, Batch: 200, Loss: 1.209\n",
            "Epoch: 10, Batch: 300, Loss: 1.192\n",
            "Test Loss: 0.010, Accuracy: 55.580%\n",
            "Epoch: 11, Batch: 100, Loss: 1.193\n",
            "Epoch: 11, Batch: 200, Loss: 1.178\n",
            "Epoch: 11, Batch: 300, Loss: 1.199\n",
            "Test Loss: 0.010, Accuracy: 57.640%\n",
            "Epoch: 12, Batch: 100, Loss: 1.200\n",
            "Epoch: 12, Batch: 200, Loss: 1.168\n",
            "Epoch: 12, Batch: 300, Loss: 1.165\n",
            "Test Loss: 0.009, Accuracy: 57.490%\n",
            "Epoch: 13, Batch: 100, Loss: 1.158\n",
            "Epoch: 13, Batch: 200, Loss: 1.151\n",
            "Epoch: 13, Batch: 300, Loss: 1.152\n",
            "Test Loss: 0.010, Accuracy: 54.570%\n",
            "Epoch: 14, Batch: 100, Loss: 1.158\n",
            "Epoch: 14, Batch: 200, Loss: 1.167\n",
            "Epoch: 14, Batch: 300, Loss: 1.153\n",
            "Test Loss: 0.009, Accuracy: 59.390%\n",
            "Epoch: 15, Batch: 100, Loss: 1.134\n",
            "Epoch: 15, Batch: 200, Loss: 1.146\n",
            "Epoch: 15, Batch: 300, Loss: 1.137\n",
            "Test Loss: 0.009, Accuracy: 58.200%\n",
            "Epoch: 16, Batch: 100, Loss: 1.127\n",
            "Epoch: 16, Batch: 200, Loss: 1.136\n",
            "Epoch: 16, Batch: 300, Loss: 1.134\n",
            "Test Loss: 0.010, Accuracy: 57.790%\n",
            "Epoch: 17, Batch: 100, Loss: 1.119\n",
            "Epoch: 17, Batch: 200, Loss: 1.122\n",
            "Epoch: 17, Batch: 300, Loss: 1.109\n",
            "Test Loss: 0.010, Accuracy: 57.360%\n",
            "Epoch: 18, Batch: 100, Loss: 1.098\n",
            "Epoch: 18, Batch: 200, Loss: 1.103\n",
            "Epoch: 18, Batch: 300, Loss: 1.114\n",
            "Test Loss: 0.009, Accuracy: 60.060%\n",
            "Epoch: 19, Batch: 100, Loss: 1.088\n",
            "Epoch: 19, Batch: 200, Loss: 1.108\n",
            "Epoch: 19, Batch: 300, Loss: 1.105\n",
            "Test Loss: 0.009, Accuracy: 60.640%\n"
          ]
        }
      ]
    },
    {
      "cell_type": "code",
      "source": [],
      "metadata": {
        "id": "qmvj4kgCEfkH"
      },
      "execution_count": null,
      "outputs": []
    }
  ]
}